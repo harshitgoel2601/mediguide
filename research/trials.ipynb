{
 "cells": [
  {
   "cell_type": "code",
   "execution_count": null,
   "metadata": {},
   "outputs": [],
   "source": [
    "print(\"okg\")"
   ]
  },
  {
   "cell_type": "code",
   "execution_count": null,
   "metadata": {},
   "outputs": [],
   "source": [
    "%pwd\n"
   ]
  },
  {
   "cell_type": "code",
   "execution_count": null,
   "metadata": {},
   "outputs": [],
   "source": [
    "import os\n",
    "os.chdir(\"../\")"
   ]
  },
  {
   "cell_type": "code",
   "execution_count": null,
   "metadata": {},
   "outputs": [],
   "source": [
    "%pwd #project working dir"
   ]
  },
  {
   "cell_type": "code",
   "execution_count": null,
   "metadata": {},
   "outputs": [],
   "source": [
    "from langchain.document_loaders import PyPDFLoader, DirectoryLoader\n",
    "from langchain.text_splitter import RecursiveCharacterTextSplitter"
   ]
  },
  {
   "cell_type": "code",
   "execution_count": null,
   "metadata": {},
   "outputs": [],
   "source": [
    "def load_pdf_file(data):\n",
    "    loader= DirectoryLoader(data, glob=\"*.pdf\", loader_cls=PyPDFLoader)\n",
    "    documents= loader.load()\n",
    "    return documents"
   ]
  },
  {
   "cell_type": "code",
   "execution_count": null,
   "metadata": {},
   "outputs": [],
   "source": [
    "extracted_data= load_pdf_file(data='Data/')"
   ]
  },
  {
   "cell_type": "code",
   "execution_count": null,
   "metadata": {},
   "outputs": [],
   "source": [
    "#extracted_data\n"
   ]
  },
  {
   "cell_type": "code",
   "execution_count": null,
   "metadata": {},
   "outputs": [],
   "source": [
    "def text_split(extracted_data):\n",
    "    text_splitter= RecursiveCharacterTextSplitter(chunk_size=500, chunk_overlap=20)\n",
    "    text_chunks= text_splitter.split_documents(extracted_data)\n",
    "    return text_chunks"
   ]
  },
  {
   "cell_type": "code",
   "execution_count": null,
   "metadata": {},
   "outputs": [],
   "source": [
    "text_chunks= text_split(extracted_data)\n",
    "print(\"Length of text chunks\",len(text_chunks))"
   ]
  },
  {
   "cell_type": "code",
   "execution_count": null,
   "metadata": {},
   "outputs": [],
   "source": [
    "#text_chunks\n"
   ]
  },
  {
   "cell_type": "code",
   "execution_count": null,
   "metadata": {},
   "outputs": [],
   "source": [
    "from langchain_huggingface import HuggingFaceEmbeddings"
   ]
  },
  {
   "cell_type": "code",
   "execution_count": null,
   "metadata": {},
   "outputs": [],
   "source": [
    "def download_hugging_face_embeddings():\n",
    "    embeddings= HuggingFaceEmbeddings(model_name='sentence-transformers/all-MiniLM-L6-v2')\n",
    "    return embeddings"
   ]
  },
  {
   "cell_type": "code",
   "execution_count": null,
   "metadata": {},
   "outputs": [],
   "source": [
    "embeddings= download_hugging_face_embeddings()"
   ]
  },
  {
   "cell_type": "code",
   "execution_count": null,
   "metadata": {},
   "outputs": [],
   "source": [
    "query_result= embeddings.embed_query(\"Hello World\")\n",
    "print(\"Length\", len(query_result))"
   ]
  },
  {
   "cell_type": "code",
   "execution_count": null,
   "metadata": {},
   "outputs": [],
   "source": [
    "#query_result\n"
   ]
  },
  {
   "cell_type": "code",
   "execution_count": 67,
   "metadata": {},
   "outputs": [
    {
     "data": {
      "text/plain": [
       "True"
      ]
     },
     "execution_count": 67,
     "metadata": {},
     "output_type": "execute_result"
    }
   ],
   "source": [
    "from dotenv import load_dotenv\n",
    "load_dotenv()"
   ]
  },
  {
   "cell_type": "code",
   "execution_count": 68,
   "metadata": {},
   "outputs": [],
   "source": [
    "PINECONE_API_KEY= os.environ.get('PINECONE_API_KEY')\n",
    "TOGETHER_API_KEY= os.environ.get('TOGETHER_API_KEY')"
   ]
  },
  {
   "cell_type": "code",
   "execution_count": null,
   "metadata": {},
   "outputs": [],
   "source": [
    "from pinecone import Pinecone, ServerlessSpec\n",
    "import os\n",
    "\n",
    "pc = Pinecone(api_key=PINECONE_API_KEY)\n",
    "\n",
    "index_name = \"mediguide-index\"\n",
    "\n",
    "pc.create_index(\n",
    "    name=index_name,\n",
    "    dimension=384, # Replace with your model dimensions\n",
    "    metric=\"cosine\", # Replace with your model metric\n",
    "    spec=ServerlessSpec(\n",
    "        cloud=\"aws\",\n",
    "        region=\"us-east-1\"\n",
    "    ) \n",
    ")"
   ]
  },
  {
   "cell_type": "code",
   "execution_count": 69,
   "metadata": {},
   "outputs": [],
   "source": [
    "import os\n",
    "os.environ[\"PINECONE_API_KEY\"]= PINECONE_API_KEY\n",
    "os.environ[\"TOGETHER_API_KEY\"]= TOGETHER_API_KEY"
   ]
  },
  {
   "cell_type": "code",
   "execution_count": null,
   "metadata": {},
   "outputs": [],
   "source": [
    "# Embed each chunk and upsert the embeddings into your Pinecone index.\n",
    "from langchain_pinecone import PineconeVectorStore\n",
    "\n",
    "docsearch = PineconeVectorStore.from_documents(\n",
    "    documents=text_chunks,\n",
    "    index_name=index_name,\n",
    "    embedding=embeddings, \n",
    ")"
   ]
  },
  {
   "cell_type": "code",
   "execution_count": null,
   "metadata": {},
   "outputs": [],
   "source": [
    "# Load Existing index \n",
    "\n",
    "from langchain_pinecone import PineconeVectorStore\n",
    "# Embed each chunk and upsert the embeddings into your Pinecone index.\n",
    "docsearch = PineconeVectorStore.from_existing_index(\n",
    "    index_name=index_name,\n",
    "    embedding=embeddings\n",
    ")"
   ]
  },
  {
   "cell_type": "code",
   "execution_count": null,
   "metadata": {},
   "outputs": [],
   "source": [
    "docsearch"
   ]
  },
  {
   "cell_type": "code",
   "execution_count": 90,
   "metadata": {},
   "outputs": [],
   "source": [
    "retriever = docsearch.as_retriever(search_type= \"similarity\", search_kwargs= {\"k\":5})"
   ]
  },
  {
   "cell_type": "code",
   "execution_count": 91,
   "metadata": {},
   "outputs": [],
   "source": [
    "retrieved_docs = retriever.invoke(\"What is Acne?\")"
   ]
  },
  {
   "cell_type": "code",
   "execution_count": 92,
   "metadata": {},
   "outputs": [
    {
     "data": {
      "text/plain": [
       "[Document(id='725cd052-5e47-46fd-9176-9a1102d6b450', metadata={'author': 'EDGE Note', 'creationdate': '2009-08-20T02:28:03-05:00', 'creator': 'PScript5.dll Version 5.2.2', 'moddate': '2009-08-20T02:28:03-05:00', 'page': 650.0, 'page_label': '651', 'producer': 'Acrobat Distiller 9.0.0 (Windows)', 'source': 'Data/c46528ba033a8197e32c40887c398198.pdf', 'title': 'Principles of internal medicine', 'total_pages': 5113.0}, page_content=\"ACNE (Table 57-7)\\nAcne vulgaris and acne rosacea are the two major forms of acne (Chap. 56). Estrogens \\ndecrease sebaceous gland activity, whereas androgens enhance sebum production. \\nTherefore, acne vulgaris in an adult, especially if it is of recent onset, may be a \\nreflection of increased levels of circulating androgens. Dysfunction of the ovary or \\nadrenal gland, e.g., polycystic ovary disease or Cushing's syndrome, can lead to the\"),\n",
       " Document(id='28be37f2-5322-49c5-bd53-311cd7865767', metadata={'author': 'EDGE Note', 'creationdate': '2009-08-20T02:28:03-05:00', 'creator': 'PScript5.dll Version 5.2.2', 'moddate': '2009-08-20T02:28:03-05:00', 'page': 645.0, 'page_label': '646', 'producer': 'Acrobat Distiller 9.0.0 (Windows)', 'source': 'Data/c46528ba033a8197e32c40887c398198.pdf', 'title': 'Principles of internal medicine', 'total_pages': 5113.0}, page_content='normalization of follicular keratinization, decreasing sebaceous gland activity, \\ndecreasing the population of lipophilic bacteria and yeast, and decreasing inflammation. \\nAcne vulgaris may be treated with either local or systemic medications. Minimal to \\nmoderate, pauci-inflammatory disease may respond adequately to local therapy alone. \\nAlthough areas affected with acne should be kept clean, there is little evidence to'),\n",
       " Document(id='0b27635e-01f8-40b4-bb3a-f2fc03ef4a9c', metadata={'author': 'EDGE Note', 'creationdate': '2009-08-20T02:28:03-05:00', 'creator': 'PScript5.dll Version 5.2.2', 'moddate': '2009-08-20T02:28:03-05:00', 'page': 645.0, 'page_label': '646', 'producer': 'Acrobat Distiller 9.0.0 (Windows)', 'source': 'Data/c46528ba033a8197e32c40887c398198.pdf', 'title': 'Principles of internal medicine', 'total_pages': 5113.0}, page_content='patients develop large inflammatory cysts and nodules, which may drain and result in \\nsignificant scarring.\\nExogenous and endogenous factors can alter the expression of acne vulgaris. Friction \\nand trauma may rupture preexisting microcomedones and elicit inflammatory acne \\nlesions. This is commonly seen with headbands or chin straps of athletic helmets. \\nApplication of comedogenic topical agents in cosmetics or hair preparations or chronic'),\n",
       " Document(id='7f06ec0a-c70d-497f-8401-7263e03630e7', metadata={'author': 'EDGE Note', 'creationdate': '2009-08-20T02:28:03-05:00', 'creator': 'PScript5.dll Version 5.2.2', 'moddate': '2009-08-20T02:28:03-05:00', 'page': 644.0, 'page_label': '645', 'producer': 'Acrobat Distiller 9.0.0 (Windows)', 'source': 'Data/c46528ba033a8197e32c40887c398198.pdf', 'title': 'Principles of internal medicine', 'total_pages': 5113.0}, page_content='The clinical hallmark of acne vulgaris is the comedone, which may be closed \\n(whitehead) or open (blackhead). Closed comedones appear as 1- to 2-mm pebbly \\nwhite papules, which are accentuated when the skin is stretched. They are the \\nprecursors of inflammatory lesions of acne vulgaris. The contents of closed comedones \\nare not easily expressed. Open comedones, which rarely result in inflammatory acne \\nlesions, have a large dilated follicular orifice and are filled with easily expressible'),\n",
       " Document(id='b0672078-8006-49c7-935f-61d4c3f65f82', metadata={'author': 'EDGE Note', 'creationdate': '2009-08-20T02:28:03-05:00', 'creator': 'PScript5.dll Version 5.2.2', 'moddate': '2009-08-20T02:28:03-05:00', 'page': 645.0, 'page_label': '646', 'producer': 'Acrobat Distiller 9.0.0 (Windows)', 'source': 'Data/c46528ba033a8197e32c40887c398198.pdf', 'title': 'Principles of internal medicine', 'total_pages': 5113.0}, page_content='topical exposure to certain industrial compounds that are comedogenic may elicit or \\naggravate acne. Glucocorticoids, applied topically or administered systemically in high \\ndoses, may also elicit acne. Other systemic medications such as lithium, isoniazid, \\nhalogens, phenytoin, and phenobarbital may produce acneiform eruptions, or aggravate \\npreexisting acne.\\nTREATMENT\\nTreatment of acne vulgaris is directed toward elimination of comedones by')]"
      ]
     },
     "execution_count": 92,
     "metadata": {},
     "output_type": "execute_result"
    }
   ],
   "source": [
    "retrieved_docs"
   ]
  },
  {
   "cell_type": "code",
   "execution_count": 108,
   "metadata": {},
   "outputs": [],
   "source": [
    "from langchain_together import Together\n",
    "\n",
    "\n",
    "# Initialize the Together LLM\n",
    "llm = Together(\n",
    "    model=\"meta-llama/Llama-3.3-70B-Instruct-Turbo-Free\",\n",
    "    temperature=0.4,\n",
    "    max_tokens= 700\n",
    ")"
   ]
  },
  {
   "cell_type": "code",
   "execution_count": 109,
   "metadata": {},
   "outputs": [],
   "source": [
    "from langchain.chains import create_retrieval_chain\n",
    "from langchain.chains.combine_documents import create_stuff_documents_chain\n",
    "from langchain_core.prompts import ChatPromptTemplate\n",
    "\n",
    "\n",
    "# Define the system prompt\n",
    "system_prompt = (\n",
    "    \"You are an assistant for question-answering tasks for offering patients text-based responses\"\n",
    "\"to symptom-related questions, while clarifying that it does not replace professional diagnosis.\"\n",
    "    \"Use the following pieces of retrieved context to answer \"\n",
    "    \"the question. If you don't know the answer, say that you \"\n",
    "    \"don't know. Use four sentences maximum and keep the \"\n",
    "    \"answer concise and professional. Do not repeat same sentences.\\n\\n{context}\"\n",
    ")\n",
    "\n",
    "# Create the prompt template\n",
    "prompt = ChatPromptTemplate.from_messages([\n",
    "    (\"system\", system_prompt),\n",
    "    (\"human\", \"{input}\"),\n",
    "])"
   ]
  },
  {
   "cell_type": "code",
   "execution_count": 110,
   "metadata": {},
   "outputs": [],
   "source": [
    "\n",
    "# Create the question-answering chain\n",
    "question_answer_chain = create_stuff_documents_chain(llm, prompt)\n",
    "\n",
    "# Assume 'retriever' is already defined\n",
    "rag_chain = create_retrieval_chain(retriever, question_answer_chain)\n",
    "\n",
    "# Invoke the chain with a sample question\n"
   ]
  },
  {
   "cell_type": "code",
   "execution_count": 112,
   "metadata": {},
   "outputs": [
    {
     "name": "stdout",
     "output_type": "stream",
     "text": [
      " \n",
      "Assistant\n",
      "\n",
      "Bleeding from the ears can be caused by various conditions, including trauma, infection, or a perforated eardrum. It's also possible that you may have a condition such as otitis externa, also known as swimmer's ear, which can cause bleeding due to infection or inflammation. I recommend consulting a healthcare professional for a proper diagnosis and treatment. They will be able to assess your symptoms and provide a more accurate diagnosis.\n"
     ]
    }
   ],
   "source": [
    "response = rag_chain.invoke({\"input\": \"I am bleeding from ears, what is it?\"})\n",
    "print(response[\"answer\"])"
   ]
  }
 ],
 "metadata": {
  "kernelspec": {
   "display_name": "mediguide",
   "language": "python",
   "name": "python3"
  },
  "language_info": {
   "codemirror_mode": {
    "name": "ipython",
    "version": 3
   },
   "file_extension": ".py",
   "mimetype": "text/x-python",
   "name": "python",
   "nbconvert_exporter": "python",
   "pygments_lexer": "ipython3",
   "version": "3.10.16"
  }
 },
 "nbformat": 4,
 "nbformat_minor": 2
}
